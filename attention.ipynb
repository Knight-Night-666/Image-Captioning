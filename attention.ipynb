{
 "cells": [
  {
   "cell_type": "code",
   "execution_count": 16,
   "metadata": {},
   "outputs": [],
   "source": [
    "import numpy as np # linear algebra\n",
    "import pandas as pd # data processing, CSV file I/O (e.g. pd.read_csv)\n",
    "\n",
    "import os\n",
    "\n",
    "from fastai.vision.all import *\n",
    "from fastai.text.all import *\n",
    "from pathlib import Path\n",
    "\n",
    "import torch\n",
    "torch.cuda.empty_cache()\n",
    "import torch.nn.functional as F\n",
    "import torch.optim as optim\n",
    "from torch.nn.utils.rnn import pad_sequence\n",
    "from torch.utils.data import DataLoader, Dataset\n",
    "from torch.utils.data.sampler import SubsetRandomSampler\n",
    "import torchvision\n",
    "\n",
    "import torchtext\n",
    "from torchtext.data import get_tokenizer   # for tokenization\n",
    "from collections import Counter     # for tokenizer\n",
    "\n",
    "import torchvision.transforms as T\n",
    "import torchvision.models as models\n",
    "\n",
    "import matplotlib.pyplot as plt\n",
    "# import matplotlib.image as Image\n",
    "import PIL\n",
    "from PIL import Image\n",
    "\n",
    "# for the bleu scores\n",
    "from nltk.translate import bleu\n",
    "from nltk.translate.bleu_score import sentence_bleu\n",
    "from nltk.translate.bleu_score import corpus_bleu\n",
    "from main import *\n",
    "from model_attention import EncoderDecoder\n",
    "# from model_baseline import CNNToRNN"
   ]
  },
  {
   "cell_type": "code",
   "execution_count": 17,
   "metadata": {},
   "outputs": [
    {
     "name": "stdout",
     "output_type": "stream",
     "text": [
      "Using device :- cuda:0\n"
     ]
    }
   ],
   "source": [
    "# Getting CUDA\n",
    "device = torch.device(\"cuda:0\" if torch.cuda.is_available() else \"cpu\")\n",
    "print(\"Using device :-\", device)"
   ]
  },
  {
   "cell_type": "code",
   "execution_count": 18,
   "metadata": {},
   "outputs": [],
   "source": [
    "CAPTIONS_PATH = \"Flickr_8k/captions.txt\"\n",
    "IMAGES_PATH = \"Flickr_8k/Images/\""
   ]
  },
  {
   "cell_type": "code",
   "execution_count": 19,
   "metadata": {},
   "outputs": [],
   "source": [
    "transforms = T.Compose([\n",
    "    T.Resize(256),\n",
    "    T.CenterCrop(384),\n",
    "    T.ToTensor(),\n",
    "    T.Normalize(mean=[0.485, 0.456, 0.406], std=[0.229, 0.224, 0.225]),\n",
    "])\n",
    "\n",
    "dataset = customDataset(\n",
    "    image_dir = IMAGES_PATH,\n",
    "    captions_file = CAPTIONS_PATH,\n",
    "    transform = transforms\n",
    ")"
   ]
  },
  {
   "cell_type": "code",
   "execution_count": 20,
   "metadata": {},
   "outputs": [],
   "source": [
    "with open('vocab.pkl', 'wb') as file:\n",
    "    pickle.dump(dataset.vocab, file)"
   ]
  },
  {
   "cell_type": "code",
   "execution_count": 21,
   "metadata": {},
   "outputs": [],
   "source": [
    "validation_split = .1\n",
    "shuffle_dataset = False\n",
    "random_seed= 42"
   ]
  },
  {
   "cell_type": "code",
   "execution_count": 22,
   "metadata": {},
   "outputs": [],
   "source": [
    "batch_size = 8\n",
    "val_ratio = 0.1\n",
    "train_loader,validator_loader = train_val_split(dataset,val_ratio,batch_size)"
   ]
  },
  {
   "cell_type": "code",
   "execution_count": 23,
   "metadata": {},
   "outputs": [
    {
     "data": {
      "text/plain": [
       "2048"
      ]
     },
     "execution_count": 23,
     "metadata": {},
     "output_type": "execute_result"
    }
   ],
   "source": [
    "# Initializing Variable for attention model\n",
    "embed_sz = 300\n",
    "vocab_sz = len(dataset.vocab)\n",
    "att_dim = 128\n",
    "enc_dim = 2048\n",
    "dec_dim = 256\n",
    "learning_rate = 3e-4\n",
    "\n",
    "model = EncoderDecoder(\n",
    "    embed_sz = 300,\n",
    "    vocab_sz = len(dataset.vocab),\n",
    "    att_dim = 128,\n",
    "    enc_dim = 2048,\n",
    "    dec_dim = 256\n",
    ").to(device)\n",
    "\n",
    "model.enc_dim"
   ]
  },
  {
   "cell_type": "code",
   "execution_count": 24,
   "metadata": {},
   "outputs": [],
   "source": [
    "criterion = nn.CrossEntropyLoss(ignore_index=dataset.vocab.sentenceToIndex[\"<PAD>\"])\n",
    "optimizer = optim.Adam(model.parameters(), lr=learning_rate)"
   ]
  },
  {
   "cell_type": "code",
   "execution_count": null,
   "metadata": {},
   "outputs": [],
   "source": [
    "epochs = 1\n",
    "print_each = 100\n",
    "train(\n",
    "    epochs=epochs,\n",
    "    print_each=print_each,\n",
    "    model=model,\n",
    "    criterion=criterion,\n",
    "    optimizer=optimizer,\n",
    "    dls=train_loader,\n",
    "    vocab_sz=vocab_sz,\n",
    "    validation_loader=validator_loader,\n",
    "    dataset=dataset,\n",
    "    device=device\n",
    ")"
   ]
  },
  {
   "cell_type": "code",
   "execution_count": 25,
   "metadata": {},
   "outputs": [
    {
     "name": "stdout",
     "output_type": "stream",
     "text": [
      "No of captions: 40455\n"
     ]
    }
   ],
   "source": [
    "Model_path = './attention.pth'\n",
    "model = load_model(Model_path,model)\n",
    "descriptors = getDescriptors(CAPTIONS_PATH)\n",
    "\n",
    "y_true,y_pred= make_predictions(model,validator_loader,batch_size,dataset,descriptors,device)"
   ]
  },
  {
   "cell_type": "code",
   "execution_count": 26,
   "metadata": {},
   "outputs": [
    {
     "name": "stdout",
     "output_type": "stream",
     "text": [
      "BLEU-1: 0.673160\n",
      "BLEU-2: 0.467582\n",
      "BLEU-3: 0.343748\n",
      "BLEU-4: 0.204839\n"
     ]
    }
   ],
   "source": [
    "calc_BLEU_score(y_true,y_pred)"
   ]
  },
  {
   "cell_type": "code",
   "execution_count": 27,
   "metadata": {},
   "outputs": [
    {
     "name": "stdout",
     "output_type": "stream",
     "text": [
      "Meteor score:  0.5431532500432575\n"
     ]
    }
   ],
   "source": [
    "calc_meteor_score(y_true,y_pred)"
   ]
  }
 ],
 "metadata": {
  "kernelspec": {
   "display_name": "DRL4DG",
   "language": "python",
   "name": "python3"
  },
  "language_info": {
   "codemirror_mode": {
    "name": "ipython",
    "version": 3
   },
   "file_extension": ".py",
   "mimetype": "text/x-python",
   "name": "python",
   "nbconvert_exporter": "python",
   "pygments_lexer": "ipython3",
   "version": "3.9.16"
  },
  "orig_nbformat": 4
 },
 "nbformat": 4,
 "nbformat_minor": 2
}
